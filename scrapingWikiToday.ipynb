{
  "nbformat": 4,
  "nbformat_minor": 0,
  "metadata": {
    "colab": {
      "name": "scrapingWikiToday.ipynb",
      "provenance": [],
      "authorship_tag": "ABX9TyNnjdf6Ij6gY4M2iENVnFmx",
      "include_colab_link": true
    },
    "kernelspec": {
      "name": "python3",
      "display_name": "Python 3"
    },
    "language_info": {
      "name": "python"
    }
  },
  "cells": [
    {
      "cell_type": "markdown",
      "metadata": {
        "id": "view-in-github",
        "colab_type": "text"
      },
      "source": [
        "<a href=\"https://colab.research.google.com/github/dazeo/classssss/blob/master/scrapingWikiToday.ipynb\" target=\"_parent\"><img src=\"https://colab.research.google.com/assets/colab-badge.svg\" alt=\"Open In Colab\"/></a>"
      ]
    },
    {
      "cell_type": "code",
      "metadata": {
        "colab": {
          "base_uri": "https://localhost:8080/"
        },
        "id": "vRQHQipEb2kf",
        "outputId": "84b79190-ae10-4657-d162-70ed68fa485f"
      },
      "source": [
        "import requests\n",
        "from bs4 import BeautifulSoup\n",
        "\n",
        "url = \"https://ja.wikipedia.org\"\n",
        "response = requests.get(url)\n",
        "\n",
        "soup = BeautifulSoup(response.content, \"html.parser\")\n",
        "today = soup.find(\"div\", attrs={\"id\": \"on_this_day\"}).text\n",
        "print(today)"
      ],
      "execution_count": 4,
      "outputs": [
        {
          "output_type": "stream",
          "text": [
            "\n",
            "今日は何の日 7月5日\n",
            "\n",
            "ビキニの日\n",
            "アイザック・ニュートンが『自然哲学の数学的諸原理』（プリンキピア）を刊行（1687年）\n",
            "ベネズエラがスペインからの独立を宣言。1821年に承認される（1811年）\n",
            "朔平門外の変（1863年 - 文久3年5月20日）\n",
            "カメルーン全土がドイツの勢力下に置かれる（1884年）\n",
            "東京電燈会社が開業（1886年）\n",
            "第二次世界大戦：クルスクの戦い始まる。8月27日まで（1943年）\n",
            "下山事件：国鉄総裁下山定則が出勤途中に失踪、翌日に遺体で発見（1949年）\n",
            "アルジェリアがフランスより独立（1962年）\n",
            "カーボベルデがポルトガルより独立（1975年）\n",
            "パキスタン：ムハンマド・ジア＝ウル＝ハクがクーデターを起こし、首相のズルフィカール・アリー・ブットーら閣僚を逮捕（1977年）\n",
            "スコットランドで世界初の哺乳類の体細胞クローンである羊「ドリー」が生まれる（1996年）\n",
            "\n"
          ],
          "name": "stdout"
        }
      ]
    }
  ]
}